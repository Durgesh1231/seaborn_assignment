{
  "nbformat": 4,
  "nbformat_minor": 0,
  "metadata": {
    "colab": {
      "provenance": []
    },
    "kernelspec": {
      "name": "python3",
      "display_name": "Python 3"
    },
    "language_info": {
      "name": "python"
    }
  },
  "cells": [
    {
      "cell_type": "code",
      "execution_count": null,
      "metadata": {
        "id": "q9B_EK4Me9ix"
      },
      "outputs": [],
      "source": [
        "# Importing necessary libraries\n",
        "import seaborn as sns\n",
        "import matplotlib.pyplot as plt\n",
        "\n",
        "# Que 1: Name any five plots that we can plot using the Seaborn library.\n",
        "\"\"\"\n",
        "1. Scatter Plot: Used to visualize relationships between two numerical variables.\n",
        "2. Line Plot: Used to show trends over a period of time or sequential data.\n",
        "3. Box Plot: Used to display the distribution of data and its summary statistics like quartiles and outliers.\n",
        "4. Histogram: Used to display the frequency distribution of a numerical variable.\n",
        "5. Heatmap: Used to display data in a tabular format with color-coded values, often used for correlations.\n",
        "\"\"\"\n",
        "\n",
        "# Que 2: Plot a line plot using the \"fmri\" dataset.\n",
        "fmri = sns.load_dataset(\"fmri\")\n",
        "sns.lineplot(data=fmri, x=\"timepoint\", y=\"signal\", hue=\"event\", style=\"region\")\n",
        "plt.title(\"Line Plot of FMRI Data\")\n",
        "plt.show()\n",
        "\n",
        "# Que 3: Plot two box plots using the \"titanic\" dataset.\n",
        "titanic = sns.load_dataset(\"titanic\")\n",
        "\n",
        "# Box plot for 'age'\n",
        "sns.boxplot(data=titanic, x=\"pclass\", y=\"age\")\n",
        "plt.title(\"Box Plot of Age by Pclass\")\n",
        "plt.show()\n",
        "\n",
        "# Box plot for 'fare'\n",
        "sns.boxplot(data=titanic, x=\"pclass\", y=\"fare\")\n",
        "plt.title(\"Box Plot of Fare by Pclass\")\n",
        "plt.show()\n",
        "\n",
        "# Que 4: Plot a histogram for the 'price' column using the \"diamonds\" dataset.\n",
        "diamonds = sns.load_dataset(\"diamonds\")\n",
        "sns.histplot(data=diamonds, x=\"price\", hue=\"cut\", kde=False)\n",
        "plt.title(\"Histogram of Price by Cut\")\n",
        "plt.show()\n",
        "\n",
        "# Que 5: Plot a pair plot using the \"iris\" dataset.\n",
        "iris = sns.load_dataset(\"iris\")\n",
        "sns.pairplot(data=iris, hue=\"species\")\n",
        "plt.title(\"Pair Plot of Iris Dataset\")\n",
        "plt.show()\n",
        "\n",
        "# Que 6: Plot a heatmap using the \"flights\" dataset.\n",
        "flights = sns.load_dataset(\"flights\")\n",
        "flights_pivot = flights.pivot(\"month\", \"year\", \"passengers\")\n",
        "sns.heatmap(data=flights_pivot, annot=True, fmt=\"d\", cmap=\"coolwarm\")\n",
        "plt.title(\"Heatmap of Flights Dataset\")\n",
        "plt.show()\n"
      ]
    }
  ]
}